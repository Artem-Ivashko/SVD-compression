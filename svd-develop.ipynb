{
 "cells": [
  {
   "cell_type": "code",
   "execution_count": 1,
   "metadata": {
    "collapsed": false
   },
   "outputs": [],
   "source": [
    "import numpy as np\n",
    "import module_Artem"
   ]
  },
  {
   "cell_type": "code",
   "execution_count": 6,
   "metadata": {
    "collapsed": false
   },
   "outputs": [
    {
     "name": "stdout",
     "output_type": "stream",
     "text": [
      "(375, 600, 4)\n"
     ]
    }
   ],
   "source": [
    "import matplotlib.image as matim\n",
    "import matplotlib.pyplot as plt\n",
    "%matplotlib inline\n",
    "\n",
    "temp_var1 = matim.imread(\"grayscale.png\")\n",
    "print(temp_var1.shape)\n",
    "\n",
    "temp2 = np.zeros((temp_var1.shape[0],temp_var1.shape[1],3))\n",
    "temp2[:,:,0] = temp_var1[:,:,0]\n",
    "temp2[:,:,1] = temp_var1[:,:,1]\n",
    "temp2[:,:,2] = temp_var1[:,:,2]\n",
    "\n",
    "UR, sR, VR = np.linalg.svd(temp2[:,:,0])\n",
    "UG, sG, VG = np.linalg.svd(temp2[:,:,1])\n",
    "UB, sB, VB = np.linalg.svd(temp2[:,:,2])\n",
    "\n",
    "module_Artem.matrix_compress_export(UR, sR, VR, UG, sG, VG, UB, sB, VB, 50, \"new_.png\")"
   ]
  },
  {
   "cell_type": "code",
   "execution_count": null,
   "metadata": {
    "collapsed": true
   },
   "outputs": [],
   "source": []
  }
 ],
 "metadata": {
  "kernelspec": {
   "display_name": "Python 3",
   "language": "python",
   "name": "python3"
  },
  "language_info": {
   "codemirror_mode": {
    "name": "ipython",
    "version": 3
   },
   "file_extension": ".py",
   "mimetype": "text/x-python",
   "name": "python",
   "nbconvert_exporter": "python",
   "pygments_lexer": "ipython3",
   "version": "3.4.0"
  }
 },
 "nbformat": 4,
 "nbformat_minor": 0
}
